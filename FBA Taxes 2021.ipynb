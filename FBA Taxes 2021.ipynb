{
 "cells": [
  {
   "cell_type": "markdown",
   "id": "978f9756",
   "metadata": {},
   "source": [
    "# Amazon FBA Taxes 2021"
   ]
  },
  {
   "cell_type": "code",
   "execution_count": 1,
   "id": "5b3f7060",
   "metadata": {},
   "outputs": [
    {
     "name": "stdout",
     "output_type": "stream",
     "text": [
      "D:\\Amazon FBA\\businesstracker\n"
     ]
    }
   ],
   "source": [
    "# Set working directory\n",
    "%cd \"D:\\Amazon FBA\\businesstracker\"\n",
    "\n",
    "from amz_transactions import Transactions, Cashflows\n",
    "from amz_charting import generate_cashflow_graph\n",
    "import pandas as pd\n",
    "import numpy as np\n"
   ]
  },
  {
   "cell_type": "code",
   "execution_count": 2,
   "id": "c84abdd1",
   "metadata": {},
   "outputs": [],
   "source": [
    "# Connect to PSQL and create Transactions object\n",
    "db = Transactions(configfile='psql_businessfinances.ini')"
   ]
  },
  {
   "cell_type": "markdown",
   "id": "e7c78d97",
   "metadata": {},
   "source": [
    "## Update Recieved Inventory in SQL from Inventory Reports"
   ]
  },
  {
   "cell_type": "code",
   "execution_count": 3,
   "id": "b17673f8",
   "metadata": {},
   "outputs": [],
   "source": [
    "# df_inv = pd.read_csv(\"inventory_recieved.csv\")\n",
    "# df_inv[\"date\"] = pd.to_datetime(df_inv[\"date\"])\n",
    "# for row in df_inv.itertuples():\n",
    "#     query = f\"INSERT INTO inventory_recieved VALUES ({row[0]},'{row[1]}','{row[2]}','{row[3]}','{row[4]}',{row[5]},'{row[6]}','{row[7]}',{row[8]}) RETURNING *\"\n",
    "#     db.execute_command(query)"
   ]
  },
  {
   "cell_type": "markdown",
   "id": "60172d6f",
   "metadata": {},
   "source": [
    "## Retrieve datasets"
   ]
  },
  {
   "cell_type": "code",
   "execution_count": 4,
   "id": "7d00c46b",
   "metadata": {},
   "outputs": [],
   "source": [
    "# Retrieve all transactions from PSQL\n",
    "query = f'''\n",
    "        SELECT *\n",
    "        FROM amz_transactions\n",
    "        ORDER BY posted_date_time\n",
    "        '''\n",
    "df_tr = pd.read_sql(query,db.conn)\n",
    "df_inv = pd.read_sql(f\"SELECT * FROM inventory_recieved ORDER BY date\",db.conn)\n",
    "df_orders = pd.read_sql(f\"SELECT DISTINCT order_id,posted_date_time FROM amz_transactions ORDER BY posted_date_time\",db.conn)\n",
    "\n",
    "# Load FXUSDCAD from BoC CSV\n",
    "df_fx = pd.read_csv(\"FXUSDCAD-2021.csv\")\n"
   ]
  },
  {
   "cell_type": "code",
   "execution_count": 5,
   "id": "db4b857a",
   "metadata": {},
   "outputs": [],
   "source": [
    "## Helper function\n",
    "def window_helper(group,op,col):\n",
    "    group = group.sort_values('date')\n",
    "    nam_col = op+col\n",
    "    if op == \"Sum\":\n",
    "        group[nam_col] = group[col].expanding(1).sum()\n",
    "    elif op == \"Avg\":\n",
    "        group[nam_col] = group[col].expanding(1).mean()\n",
    "    return group"
   ]
  },
  {
   "cell_type": "code",
   "execution_count": 6,
   "id": "6d45543e",
   "metadata": {},
   "outputs": [],
   "source": [
    "# Cleanup datasets\n",
    "\n",
    "df_fx[\"date\"] = pd.to_datetime(df_fx[\"date\"])\n",
    "df_fx[\"FXUSDCAD\"] = df_fx[\"FXUSDCAD\"].astype(float)\n",
    "df_fx = df_fx.set_index(\"date\").asfreq(freq='D',method=\"ffill\").reset_index()\n",
    "\n",
    "df_tr['date'] = df_tr[\"posted_date_time\"].dt.date\n",
    "df_tr['date'] = pd.to_datetime(df_tr['date'])\n",
    "\n",
    "df_inv.rename(columns={\"quantity\":\"inv_rec\"}, inplace=True)\n",
    "df_inv['date'] = pd.to_datetime(df_inv['date'])\n",
    "# Convert random +1 and -1 inventory to 0 as they are not real entries\n",
    "df_inv.loc[(df_inv[\"inv_rec\"] >= -1) & (df_inv[\"inv_rec\"] <= 1),\"inv_rec\"] = 0\n",
    "df_inv = df_inv.merge(df_fx, how=\"left\", on=\"date\")\n",
    "df_inv[\"CPU_USD\"] = df_inv[\"cost\"]/df_inv[\"inv_rec\"]\n",
    "df_inv[\"CPU\"] = df_inv[\"CPU_USD\"] * df_inv[\"FXUSDCAD\"]"
   ]
  },
  {
   "cell_type": "code",
   "execution_count": 7,
   "id": "af6560b8",
   "metadata": {},
   "outputs": [],
   "source": [
    "### Merge in inventory orders\n",
    "df_merged = df_tr.merge(df_inv[[\"date\",\"inv_rec\",\"CPU\"]], how=\"outer\", on=\"date\")\n",
    "df_merged[\"inv_rec\"].fillna(0, inplace = True)\n",
    "df_merged[\"CPU\"].fillna(0, inplace = True)\n",
    "# Cleanup CPU, first forward fill then set the initial NaNs to 0\n",
    "df_merged[\"CPU\"] = df_merged[\"CPU\"].fillna(method=\"ffill\").fillna(0)\n",
    "# Remove duplicated inv_rec and CPU due to merge. Ensures inventory only added once\n",
    "df_merged.loc[df_merged.duplicated([\"date\",\"inv_rec\"]),\"inv_rec\"] = 0\n",
    "df_merged.loc[df_merged.duplicated([\"date\",\"CPU\"]),\"CPU\"] = 0\n",
    "\n",
    "### Resort by dates to align everything\n",
    "df_merged = df_merged.sort_values('date')\n",
    "df_merged[\"quantity_purchased\"] = df_merged[\"quantity_purchased\"].fillna(0)\n",
    "\n",
    "### Find the change in inventory by sales or refunds\n",
    "df_merged[\"delta_inv\"] = 0\n",
    "df_merged.loc[df_merged[\"transaction_type\"]==\"Order\",\"delta_inv\"] = -1*df_merged[\"quantity_purchased\"]\n",
    "df_merged.loc[df_merged[\"transaction_type\"]==\"Refund\",\"delta_inv\"] = 1\n",
    "# Remove duplicated due to merge. Ensures salers/refunds only added once per order\n",
    "df_merged.loc[df_merged.duplicated([\"order_id\",\"delta_inv\"]),\"delta_inv\"] = 0\n",
    "\n",
    "### Clenaup index\n",
    "df_merged = df_merged.reset_index(drop=True)\n",
    "\n",
    "### Calculate current inventory based on inventory recieving and sales/refunds\n",
    "df_merged[\"curr_inv\"] = df_merged[\"inv_rec\"] + df_merged[\"delta_inv\"]\n",
    "df_merged[\"curr_inv\"] = df_merged[\"curr_inv\"].expanding(1).sum()\n"
   ]
  },
  {
   "cell_type": "code",
   "execution_count": 8,
   "id": "02b7b44b",
   "metadata": {},
   "outputs": [],
   "source": [
    "## Calculate ACB \n",
    "# Note that CPU is in CAD\n",
    "acb = np.zeros(len(df_merged))\n",
    "for i in range(1,len(acb)):\n",
    "    if max(0,df_merged.iloc[i][\"inv_rec\"]) > 0: # Increase ACB only if inventory increased\n",
    "        curr_inv = df_merged.iloc[i][\"curr_inv\"]-df_merged.iloc[i][\"inv_rec\"]\n",
    "        new_inv = df_merged.iloc[i][\"inv_rec\"]\n",
    "        new_cost = new_inv*df_merged.iloc[i][\"CPU\"]\n",
    "        curr_cost = curr_inv*acb[i-1]\n",
    "        acb[i] = (new_cost+curr_cost)/(new_inv+curr_inv)\n",
    "    else: # Else keep previous ACB\n",
    "        acb[i] = acb[i-1]\n",
    "\n",
    "df_merged[\"acb\"] = acb"
   ]
  },
  {
   "cell_type": "code",
   "execution_count": 9,
   "id": "9a2e1f55",
   "metadata": {},
   "outputs": [],
   "source": [
    "# Convert USD to CAD\n",
    "# Applies to amount only; ACB already in CAD as CPU used is in CAD abouve\n",
    "df_merged = df_merged.merge(df_fx, how=\"left\", on=\"date\")\n",
    "df_merged = df_merged.rename(columns={\"amount\":\"amount_USD\"})\n",
    "df_merged[\"amount\"] = df_merged[\"amount_USD\"] * df_merged[\"FXUSDCAD\"]"
   ]
  },
  {
   "cell_type": "code",
   "execution_count": 10,
   "id": "dda31bf5",
   "metadata": {},
   "outputs": [],
   "source": [
    "# Export CSV\n",
    "df_merged.sort_values([\"date\",\"posted_date_time\"]).to_csv(\"merged.csv\")"
   ]
  },
  {
   "cell_type": "markdown",
   "id": "be7c65a4",
   "metadata": {},
   "source": [
    "All data is prepared for analysis. Completed:\n",
    "\n",
    "    1. Inventory recieving\n",
    "    2. ACB calculation\n",
    "    3. Inventory deltas for sales/refunds\n",
    "    4. Determined daily FX-USDCAD rates\n",
    "\n",
    "## Analysis"
   ]
  },
  {
   "cell_type": "code",
   "execution_count": 11,
   "id": "949ddf10",
   "metadata": {},
   "outputs": [],
   "source": [
    "# Setup\n",
    "start = pd.to_datetime('2021-01-01')\n",
    "end = pd.to_datetime('2022-01-01')\n",
    "\n",
    "mask = (df_merged[\"date\"] >= start) & (df_merged[\"date\"] < end)\n",
    "df_merged = df_merged[mask]"
   ]
  },
  {
   "cell_type": "code",
   "execution_count": 19,
   "id": "09a22f78",
   "metadata": {},
   "outputs": [
    {
     "name": "stdout",
     "output_type": "stream",
     "text": [
      "Sales Revenue = $ 10848.42\n"
     ]
    }
   ],
   "source": [
    "# Sales Revenue\n",
    "# For every order_id, get amount_type == \"ItemPrice\" and amount_description == \"Principal\"\n",
    "# Includes the revenue subtraction due to refunds\n",
    "mask = (df_merged[\"amount_type\"] == \"ItemPrice\") & (df_merged[\"amount_description\"] == \"Principal\")\n",
    "revenue = df_merged[mask][\"amount\"].sum()\n",
    "print(\"Sales Revenue = $\", round(abs(revenue),2))"
   ]
  },
  {
   "cell_type": "code",
   "execution_count": 18,
   "id": "1f3e73dd",
   "metadata": {},
   "outputs": [
    {
     "name": "stdout",
     "output_type": "stream",
     "text": [
      "Cost of Advertising = $ 4870.66\n"
     ]
    }
   ],
   "source": [
    "# Advertising Expense\n",
    "# PPC Campaign: Sum where amount_type == \"Cost of Advertising\"\n",
    "# Coupons: Sum where transaction_type == \"CouponRedemptionFee\" + \n",
    "#          Sum where amount_type == \"Promotion\" and amount_description == \"Principal\"\n",
    "ppc_mask = df_merged[\"amount_type\"] == \"Cost of Advertising\"\n",
    "coupred_mask = df_merged[\"transaction_type\"] == \"CouponRedemptionFee of Advertising\"\n",
    "coupro_mask = (df_merged[\"amount_type\"] == \"Promotion\") & (df_merged[\"amount_description\"] == \"Principal\")\n",
    "\n",
    "advert = df_merged[ppc_mask][\"amount\"].sum()\n",
    "advert = advert + df_merged[coupred_mask][\"amount\"].sum() \n",
    "advert = advert + df_merged[coupro_mask][\"amount\"].sum()\n",
    "print(\"Cost of Advertising = $\", round(abs(advert),2))"
   ]
  },
  {
   "cell_type": "code",
   "execution_count": 20,
   "id": "ccaedff6",
   "metadata": {},
   "outputs": [
    {
     "name": "stdout",
     "output_type": "stream",
     "text": [
      "FBA Fees = $ 2568.0\n"
     ]
    }
   ],
   "source": [
    "# FBA Fees\n",
    "# Commissions: Sum where amount_type == \"ItemFees\" and amount_description == \"Commission\" + \n",
    "#              Sum where amount_type == \"ItemFees\" and amount_description == \"FBAPerUnitFulfillmentFee\" + \n",
    "#              Sum where amount_type == \"ItemFees\" and amount_description == \"RefundCommission\" + \n",
    "# Includes commissions refunded in Refunds from original order\n",
    "\n",
    "comm_mask = (df_merged[\"amount_type\"] == \"ItemFees\") & (df_merged[\"amount_description\"] == \"Commission\")\n",
    "fullf_mask = (df_merged[\"amount_type\"] == \"ItemFees\") & (df_merged[\"amount_description\"] == \"FBAPerUnitFulfillmentFee\")\n",
    "refcom_mask = (df_merged[\"amount_type\"] == \"ItemFees\") & (df_merged[\"amount_description\"] == \"RefundCommission\")\n",
    "\n",
    "fees = df_merged[comm_mask][\"amount\"].sum()\n",
    "fees = fees + df_merged[fullf_mask][\"amount\"].sum()\n",
    "fees = fees + df_merged[refcom_mask][\"amount\"].sum() \n",
    "print(\"FBA Fees = $\", round(abs(fees),2))"
   ]
  },
  {
   "cell_type": "code",
   "execution_count": 21,
   "id": "0b6eaa28",
   "metadata": {},
   "outputs": [
    {
     "name": "stdout",
     "output_type": "stream",
     "text": [
      "Storage Fees = $ 1564.78\n"
     ]
    }
   ],
   "source": [
    "# Storage Fees\n",
    "# Sum where amount_description == \"Storage Fee\"]\n",
    "store_mask = df_merged[\"amount_description\"] == \"Storage Fee\"\n",
    "store = df_merged[comm_mask][\"amount\"].sum()\n",
    "print(\"Storage Fees = $\", round(abs(store),2))"
   ]
  },
  {
   "cell_type": "code",
   "execution_count": 22,
   "id": "b5b97eab",
   "metadata": {},
   "outputs": [
    {
     "name": "stdout",
     "output_type": "stream",
     "text": [
      "COGS = $ 2472.77\n"
     ]
    }
   ],
   "source": [
    "# Cost of Goods Sold\n",
    "# Sum of quantity sold * ACB \n",
    "# Refunds are taken care when groupedby order_id and the delta_inv = 0 since refunds are under same order_id as order\n",
    "df_temp = df_merged.groupby(\"order_id\",as_index=False).sum()\n",
    "df_temp[\"acb\"] = df_temp[\"acb\"]/df_temp[\"quantity_purchased\"] # Re-normalize ACB after grouping\n",
    "cogs = (df_temp[\"acb\"] * df_temp[\"delta_inv\"]).sum()\n",
    "print(\"COGS = $\", round(abs(cogs),2))"
   ]
  },
  {
   "cell_type": "code",
   "execution_count": 23,
   "id": "57e86bb0",
   "metadata": {},
   "outputs": [
    {
     "name": "stdout",
     "output_type": "stream",
     "text": [
      "Subscription Costs = $ 552.6\n"
     ]
    }
   ],
   "source": [
    "# Subscription costs\n",
    "# Sum where amount_description == \"Subscription Fee\"]\n",
    "sub_mask = df_merged[\"amount_description\"] == \"Subscription Fee\"\n",
    "sub_cost = df_merged[sub_mask][\"amount\"].sum()\n",
    "print(\"Subscription Costs = $\", round(abs(sub_cost),2))"
   ]
  },
  {
   "cell_type": "code",
   "execution_count": null,
   "id": "e080a945",
   "metadata": {},
   "outputs": [],
   "source": []
  }
 ],
 "metadata": {
  "kernelspec": {
   "display_name": "Python 3 (ipykernel)",
   "language": "python",
   "name": "python3"
  },
  "language_info": {
   "codemirror_mode": {
    "name": "ipython",
    "version": 3
   },
   "file_extension": ".py",
   "mimetype": "text/x-python",
   "name": "python",
   "nbconvert_exporter": "python",
   "pygments_lexer": "ipython3",
   "version": "3.9.6"
  }
 },
 "nbformat": 4,
 "nbformat_minor": 5
}
