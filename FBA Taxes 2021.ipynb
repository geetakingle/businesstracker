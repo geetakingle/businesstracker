{
 "cells": [
  {
   "cell_type": "markdown",
   "id": "978f9756",
   "metadata": {},
   "source": [
    "# Amazon FBA Taxes 2021"
   ]
  },
  {
   "cell_type": "code",
   "execution_count": 1,
   "id": "5b3f7060",
   "metadata": {},
   "outputs": [
    {
     "name": "stdout",
     "output_type": "stream",
     "text": [
      "D:\\Amazon FBA\\businesstracker\n"
     ]
    }
   ],
   "source": [
    "# Set working directory\n",
    "%cd \"D:\\Amazon FBA\\businesstracker\"\n",
    "\n",
    "from amz_transactions import Transactions, Cashflows\n",
    "from amz_charting import generate_cashflow_graph\n",
    "import pandas as pd\n",
    "import numpy as np\n"
   ]
  },
  {
   "cell_type": "code",
   "execution_count": 2,
   "id": "c84abdd1",
   "metadata": {},
   "outputs": [],
   "source": [
    "# Connect to PSQL and create Transactions object\n",
    "db = Transactions(configfile='psql_businessfinances.ini')"
   ]
  },
  {
   "cell_type": "markdown",
   "id": "67d61d48",
   "metadata": {},
   "source": [
    "## Update Recieved Inventory in SQL from Inventory Reports"
   ]
  },
  {
   "cell_type": "code",
   "execution_count": 3,
   "id": "f66fca75",
   "metadata": {},
   "outputs": [],
   "source": [
    "# df_inv = pd.read_csv(\"inventory_recieved.csv\")\n",
    "# df_inv[\"date\"] = pd.to_datetime(df_inv[\"date\"])\n",
    "# for row in df_inv.itertuples():\n",
    "#     query = f\"INSERT INTO inventory_recieved VALUES ({row[0]},'{row[1]}','{row[2]}','{row[3]}','{row[4]}',{row[5]},'{row[6]}','{row[7]}',{row[8]}) RETURNING *\"\n",
    "#     db.execute_command(query)"
   ]
  },
  {
   "cell_type": "markdown",
   "id": "a049a31b",
   "metadata": {},
   "source": [
    "## Retrieve datasets from PSQL"
   ]
  },
  {
   "cell_type": "code",
   "execution_count": 5,
   "id": "7d00c46b",
   "metadata": {},
   "outputs": [],
   "source": [
    "# Retrieve all transactions\n",
    "\n",
    "query = f'''\n",
    "        SELECT *\n",
    "        FROM amz_transactions\n",
    "        ORDER BY posted_date_time\n",
    "        '''\n",
    "df_tr = pd.read_sql(query,db.conn)\n",
    "df_inv = pd.read_sql(f\"SELECT * FROM inventory_recieved ORDER BY date\",db.conn)\n",
    "df_orders = pd.read_sql(f\"SELECT DISTINCT order_id,posted_date_time FROM amz_transactions ORDER BY posted_date_time\",db.conn)"
   ]
  },
  {
   "cell_type": "code",
   "execution_count": 6,
   "id": "c37c9e30",
   "metadata": {},
   "outputs": [],
   "source": [
    "## Helper function\n",
    "def window_helper(group,op,col):\n",
    "    group = group.sort_values('date')\n",
    "    nam_col = op+col\n",
    "    if op == \"Sum\":\n",
    "        group[nam_col] = group[col].expanding(1).sum()\n",
    "    elif op == \"Avg\":\n",
    "        group[nam_col] = group[col].expanding(1).mean()\n",
    "    return group"
   ]
  },
  {
   "cell_type": "code",
   "execution_count": 7,
   "id": "d5e08ea1",
   "metadata": {},
   "outputs": [],
   "source": [
    "# Cleanup datasets\n",
    "\n",
    "df_tr['date'] = df_tr[\"posted_date_time\"].dt.date\n",
    "df_tr['date'] = pd.to_datetime(df_tr['date'])\n",
    "\n",
    "df_inv.rename(columns={\"quantity\":\"inv_rec\"}, inplace=True)\n",
    "df_inv['date'] = pd.to_datetime(df_inv['date'])\n",
    "# Convert random +1 and -1 inventory to 0 as they are not real entries\n",
    "df_inv.loc[(df_inv[\"inv_rec\"] >= -1) & (df_inv[\"inv_rec\"] <= 1),\"inv_rec\"] = 0\n",
    "df_inv[\"CPU\"] = df_inv[\"cost\"]/df_inv[\"inv_rec\"]"
   ]
  },
  {
   "cell_type": "code",
   "execution_count": 8,
   "id": "af6560b8",
   "metadata": {},
   "outputs": [],
   "source": [
    "### Merge in inventory orders\n",
    "df_merged = df_tr.merge(df_inv[[\"date\",\"inv_rec\",\"CPU\"]], how=\"outer\", on=\"date\")\n",
    "df_merged[\"inv_rec\"].fillna(0, inplace = True)\n",
    "df_merged[\"CPU\"].fillna(0, inplace = True)\n",
    "# Cleanup CPU, first forward fill then set the initial NaNs to 0\n",
    "df_merged[\"CPU\"] = df_merged[\"CPU\"].fillna(method=\"ffill\").fillna(0)\n",
    "# Remove duplicated inv_rec and CPU due to merge. Ensures inventory only added once\n",
    "df_merged.loc[df_merged.duplicated([\"date\",\"inv_rec\"]),\"inv_rec\"] = 0\n",
    "df_merged.loc[df_merged.duplicated([\"date\",\"CPU\"]),\"CPU\"] = 0\n",
    "\n",
    "### Resort by dates to align everything\n",
    "df_merged = df_merged.sort_values('date')\n",
    "df_merged[\"quantity_purchased\"] = df_merged[\"quantity_purchased\"].fillna(0)\n",
    "\n",
    "### Find the change in inventory by sales or refunds\n",
    "df_merged[\"delta_inv\"] = 0\n",
    "df_merged.loc[df_merged[\"transaction_type\"]==\"Order\",\"delta_inv\"] = -1*df_merged[\"quantity_purchased\"]\n",
    "df_merged.loc[df_merged[\"transaction_type\"]==\"Refund\",\"delta_inv\"] = 1\n",
    "# Remove duplicated due to merge. Ensures salers/refunds only added once per order\n",
    "df_merged.loc[df_merged.duplicated([\"order_id\",\"delta_inv\"]),\"delta_inv\"] = 0\n",
    "\n",
    "### Clenaup index\n",
    "df_merged = df_merged.reset_index(drop=True)\n",
    "\n",
    "### Calculate current inventory based on inventory recieving and sales/refunds\n",
    "df_merged[\"curr_inv\"] = df_merged[\"inv_rec\"] + df_merged[\"delta_inv\"]\n",
    "df_merged[\"curr_inv\"] = df_merged[\"curr_inv\"].expanding(1).sum()\n"
   ]
  },
  {
   "cell_type": "code",
   "execution_count": 10,
   "id": "7191ceb9",
   "metadata": {},
   "outputs": [],
   "source": [
    "## Calculate ACB\n",
    "\n",
    "acb = np.zeros(len(df_merged))\n",
    "for i in range(1,len(acb)):\n",
    "    if max(0,df_merged.iloc[i][\"inv_rec\"]) > 0: # Increase ACB only if inventory increased\n",
    "        curr_inv = df_merged.iloc[i][\"curr_inv\"]-df_merged.iloc[i][\"inv_rec\"]\n",
    "        new_inv = df_merged.iloc[i][\"inv_rec\"]\n",
    "        new_cost = new_inv*df_merged.iloc[i][\"CPU\"]\n",
    "        curr_cost = curr_inv*acb[i-1]\n",
    "        acb[i] = (new_cost+curr_cost)/(new_inv+curr_inv)\n",
    "    else: # Else keep previous ACB\n",
    "        acb[i] = acb[i-1]\n",
    "\n",
    "df_merged[\"acb\"] = acb"
   ]
  },
  {
   "cell_type": "markdown",
   "id": "7db5d886",
   "metadata": {},
   "source": [
    "All data is prepared for analysis. Completed:\n",
    "\n",
    "    1. Inventory recieving\n",
    "    2. ACB calculation\n",
    "    3. Inventory deltas for sales/refunds\n",
    "\n",
    "## Analysis"
   ]
  },
  {
   "cell_type": "code",
   "execution_count": 25,
   "id": "1c48f2fc",
   "metadata": {},
   "outputs": [],
   "source": [
    "start = '2021-01-01'\n",
    "end = '2021-12-31'\n",
    "\n",
    "df_tots = df_merged.groupby([\"order_id\",\"date\"],as_index=False).sum()\n",
    "\n",
    "df_tots.to_csv(\"test.csv\")"
   ]
  }
 ],
 "metadata": {
  "kernelspec": {
   "display_name": "Python 3 (ipykernel)",
   "language": "python",
   "name": "python3"
  },
  "language_info": {
   "codemirror_mode": {
    "name": "ipython",
    "version": 3
   },
   "file_extension": ".py",
   "mimetype": "text/x-python",
   "name": "python",
   "nbconvert_exporter": "python",
   "pygments_lexer": "ipython3",
   "version": "3.9.6"
  }
 },
 "nbformat": 4,
 "nbformat_minor": 5
}
